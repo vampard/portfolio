{
 "cells": [
  {
   "cell_type": "markdown",
   "metadata": {},
   "source": [
    "Speculation"
   ]
  },
  {
   "cell_type": "markdown",
   "metadata": {},
   "source": [
    "\n",
    "확진자가 가장 많이 나온 구는 어디일까요?\n",
    "which district has confirmed cases the most?\n",
    "\n",
    "어느 병원에서 확진자를 가장 많이 치료했을까요? \n",
    "Which hospital treated the most confirmed patients?\n",
    "\n",
    "구별로 많이 이송되는 병원이 있을까요?\n",
    "Are there hospitals that are transferred a lot by distinction?\n",
    "\n",
    "해외유입 확진자가 가장 많이 나온 구는 어디일까요?\n",
    "Which district has the most confirmed cases coming from foreign countries?\n",
    "\n",
    "해외유입 확진은 월별로 어느정도 차이가 날까요?\n",
    "how many is the difference of the confirmed cases coming from foreign countries?\n",
    "\n",
    "누적 확진자가 가장 많이 나온 구는 어디일까요?\n",
    "which disctrict has accumulative confirmed cases the most?\n"
   ]
  },
  {
   "cell_type": "markdown",
   "metadata": {},
   "source": [
    "Used modules"
   ]
  },
  {
   "cell_type": "markdown",
   "metadata": {},
   "source": [
    "pandas, numpy, matplotlib, seaborn"
   ]
  },
  {
   "cell_type": "markdown",
   "metadata": {},
   "source": [
    "Conclusion"
   ]
  },
  {
   "cell_type": "markdown",
   "metadata": {},
   "source": [
    "\n",
    "확진자가 가장 많이 나온 구는 어디일까요?\n",
    "which district has confirmed cases the most?\n",
    "\n",
    "어느 병원에서 확진자를 가장 많이 치료했을까요? \n",
    "Which hospital treated the most confirmed patients?\n",
    "\n",
    "구별로 많이 이송되는 병원이 있을까요?\n",
    "Are there hospitals that are transferred a lot by distinction?\n",
    "\n",
    "해외유입 확진자가 가장 많이 나온 구는 어디일까요?\n",
    "Which district has the most confirmed cases coming from foreign countries?\n",
    "\n",
    "해외유입 확진은 월별로 어느정도 차이가 날까요?\n",
    "how many is the difference of the confirmed cases coming from foreign countries?\n",
    "\n",
    "누적 확진자가 가장 많이 나온 구는 어디일까요?\n",
    "which disctrict has accumulative confirmed cases the most?"
   ]
  },
  {
   "cell_type": "code",
   "execution_count": 1,
   "metadata": {},
   "outputs": [],
   "source": [
    "import pandas as pd\n",
    "import numpy as np\n",
    "import matplotlib.pyplot as plt\n",
    "import seaborn as sns\n",
    "import sqlite3\n",
    "import requests\n",
    "from tqdm import trange\n",
    "import time\n",
    "\n",
    "%matplotlib inline\n",
    "\n",
    "# korean font settings\n",
    "plt.rc(\"font\", family=\"NanumGothic\")\n",
    "plt.rc(\"axes\", unicode_minus=False)\n",
    "sns.set_style('whitegrid')\n",
    "\n",
    "# display settings\n",
    "\n",
    "from IPython.display import set_matplotlib_formats\n",
    "set_matplotlib_formats(\"retina\")\n",
    "\n",
    "# data settings\n",
    "pd.set_option('display.max_rows', 500)\n",
    "pd.set_option('display.max_columns', 500)"
   ]
  },
  {
   "cell_type": "markdown",
   "metadata": {},
   "source": [
    "# Web scraping"
   ]
  },
  {
   "cell_type": "code",
   "execution_count": 2,
   "metadata": {},
   "outputs": [
    {
     "name": "stdout",
     "output_type": "stream",
     "text": [
      "request status code is 200\n",
      "total records are 9421\n",
      "end_page is 95\n"
     ]
    }
   ],
   "source": [
    "url = \"https://news.seoul.go.kr/api/27/getCorona19Status/get_status_ajax.php?draw=1\"\n",
    "url = url + \"&order%5B0%5D%5Bdir%5D=desc&start=100&length=100\"\n",
    "\n",
    "rep = requests.get(url)\n",
    "print(\"request status code is \" + str(rep.status_code))\n",
    "data_json = rep.json()\n",
    "df = pd.DataFrame(data_json['data'])\n",
    "\n",
    "\n",
    "total_records = data_json['recordsTotal']\n",
    "print(\"total records are \" + str(total_records))\n",
    "\n",
    "end_page = round(total_records / 100)+ 1\n",
    "print(\"end_page is \" + str(end_page))"
   ]
  },
  {
   "cell_type": "code",
   "execution_count": 3,
   "metadata": {},
   "outputs": [],
   "source": [
    "def scraping_covid19_data(page_number):\n",
    "    \n",
    "    start_list = (page_number - 1) * 100\n",
    "    url = \"https://news.seoul.go.kr/api/27/getCorona19Status/get_status_ajax.php?draw=\" + str(page_number)\n",
    "    url = url + \"&order%5B0%5D%5Bdir%5D=desc&start=\"+str(start_list)+\"&length=100\"\n",
    "    rep = requests.get(url)\n",
    "    data_json = rep.json()\n",
    "    return data_json\n",
    "    "
   ]
  },
  {
   "cell_type": "code",
   "execution_count": 4,
   "metadata": {},
   "outputs": [],
   "source": [
    "def get_dataset_from_pages(start_page, end_page):\n",
    "\n",
    "    \n",
    "    page_list = []\n",
    "    for page_number in trange(start_page, end_page + 1):\n",
    "        one_page = scraping_covid19_data(page_number)\n",
    "        if len(one_page[\"data\"]) > 0:\n",
    "            one_page = pd.DataFrame(one_page[\"data\"])\n",
    "            page_list.append(one_page)\n",
    "\n",
    "            time.sleep(0.5)\n",
    "        else:\n",
    "            return page_list\n",
    "    return page_list"
   ]
  },
  {
   "cell_type": "code",
   "execution_count": null,
   "metadata": {},
   "outputs": [
    {
     "name": "stderr",
     "output_type": "stream",
     "text": [
      " 92%|█████████▏| 87/95 [01:12<00:06,  1.23it/s]"
     ]
    }
   ],
   "source": [
    "# 시작페이지와 끝페이지를 꼭 확인해 주세요.\n",
    "start_page = 1\n",
    "data_json = get_dataset_from_pages(start_page, end_page)\n",
    "\n",
    "df = pd.concat(data_json)\n",
    "df.head()"
   ]
  },
  {
   "cell_type": "code",
   "execution_count": null,
   "metadata": {},
   "outputs": [],
   "source": [
    "column_list = [\"연번\", \"환자\", \"확진일\", \"거주지\", \"여행력\", \"접촉력\", \"퇴원현황\"]\n",
    "\n",
    "df.columns = column_list\n",
    "\n",
    "print(df.shape)\n",
    "df.head()\n"
   ]
  },
  {
   "cell_type": "code",
   "execution_count": null,
   "metadata": {},
   "outputs": [],
   "source": [
    "import re\n",
    "def extract_number(num_string):\n",
    "    if type(num_string) == str:\n",
    "        num_string = num_string.replace(\"corona19\", \"\")\n",
    "        num = re.sub(\"[^0-9]\", \"\", num_string)\n",
    "        num = int(num)\n",
    "        return num\n",
    "    else:\n",
    "        return num_string"
   ]
  },
  {
   "cell_type": "code",
   "execution_count": null,
   "metadata": {},
   "outputs": [],
   "source": [
    "num_string = \"<p class='corona19_no'>9421</p>\"\n",
    "extract_number(num_string)"
   ]
  },
  {
   "cell_type": "code",
   "execution_count": null,
   "metadata": {},
   "outputs": [],
   "source": [
    "df[\"연번\"] = df[\"연번\"].map(extract_number)"
   ]
  },
  {
   "cell_type": "code",
   "execution_count": null,
   "metadata": {},
   "outputs": [],
   "source": [
    "df[\"연번\"].head()"
   ]
  },
  {
   "cell_type": "code",
   "execution_count": null,
   "metadata": {},
   "outputs": [],
   "source": [
    "def extract_hangeul(origin_text):\n",
    "    subtract_text = re.sub(\"[^가-힣]\", \"\", str(origin_text))\n",
    "    return subtract_text"
   ]
  },
  {
   "cell_type": "code",
   "execution_count": null,
   "metadata": {},
   "outputs": [],
   "source": [
    "df[\"퇴원현황\"] = df[\"퇴원현황\"].map(extract_hangeul)\n",
    "df[\"퇴원현황\"].value_counts()"
   ]
  },
  {
   "cell_type": "code",
   "execution_count": null,
   "metadata": {},
   "outputs": [],
   "source": [
    "# df.loc[df[\"퇴원현황\"].str.contains(\"퇴원\"), \"퇴원현황\"] = \"퇴원\"\n",
    "# df.loc[df[\"퇴원현황\"].str.contains(\"사망\"), \"퇴원현황\"] = \"사망\"\n",
    "# df.loc[~df[\"퇴원현황\"].str.contains(\"퇴원|사망\"), \"퇴원현황\"] = np.nan\n",
    "# df[\"퇴원현황\"].value_counts()"
   ]
  },
  {
   "cell_type": "code",
   "execution_count": null,
   "metadata": {},
   "outputs": [],
   "source": [
    "lastday = df.iloc[0][\"확진일\"]\n",
    "\n",
    "fileName = \"data/covid_19_in_seoul_\" + lastday + \"analysis.csv\"\n",
    "fileName\n",
    "\n",
    "df.to_csv(fileName, index=False, encoding=\"utf-8-sig\")\n"
   ]
  },
  {
   "cell_type": "markdown",
   "metadata": {},
   "source": [
    "# Check out data"
   ]
  },
  {
   "cell_type": "code",
   "execution_count": null,
   "metadata": {},
   "outputs": [],
   "source": [
    "covid_table = pd.read_csv(fileName)\n",
    "covid_table.info()"
   ]
  },
  {
   "cell_type": "code",
   "execution_count": null,
   "metadata": {},
   "outputs": [],
   "source": [
    "plt.rc(\"font\", family=\"NanumGothic\")\n",
    "covid_table.isnull().sum().plot.barh(figsize=(18,5))"
   ]
  },
  {
   "cell_type": "code",
   "execution_count": null,
   "metadata": {},
   "outputs": [],
   "source": [
    "covid_table.shape"
   ]
  },
  {
   "cell_type": "markdown",
   "metadata": {},
   "source": [
    "# Data preprocessing"
   ]
  },
  {
   "cell_type": "code",
   "execution_count": null,
   "metadata": {},
   "outputs": [],
   "source": [
    "print(covid_table[\"확진일\"].dtype)\n",
    "covid_table[\"확진일\"] = covid_table[\"확진일\"].str.replace(\".\",\"-\")\n",
    "covid_table[\"확진일\"] = covid_table[\"확진일\"].str.slice_replace(-1, repl='')\n",
    "covid_table[\"확진일\"] = pd.to_datetime(\"2020-\" +covid_table[\"확진일\"])\n",
    "print(covid_table[\"확진일\"].dtype)"
   ]
  },
  {
   "cell_type": "code",
   "execution_count": null,
   "metadata": {},
   "outputs": [],
   "source": [
    "covid_table.info()"
   ]
  },
  {
   "cell_type": "code",
   "execution_count": null,
   "metadata": {},
   "outputs": [],
   "source": [
    "covid_table[\"확진일(월)\"] = covid_table[\"확진일\"].dt.month\n",
    "covid_table[\"확진일(주)\"] = covid_table[\"확진일\"].dt.week"
   ]
  },
  {
   "cell_type": "code",
   "execution_count": null,
   "metadata": {
    "scrolled": false
   },
   "outputs": [],
   "source": [
    "covid_table.head()"
   ]
  },
  {
   "cell_type": "code",
   "execution_count": null,
   "metadata": {},
   "outputs": [],
   "source": [
    "#covid_table[\"확진일\"].value_counts().sort_index().plot(figsize=(15,5))\n",
    "#plt.axhline(30, color=\"#f5b461\", linestyle=\"--\")\n",
    "\n",
    "covid_table[\"확진일(월일)\"] = covid_table[\"확진일\"].astype(str).map(lambda x: x[-5:])\n",
    "day_count = covid_table[\"확진일(월일)\"].value_counts().sort_index()\n",
    "\n",
    "\n",
    "g = day_count.plot(figsize=(15, 4))\n",
    "plt.axhline(30, color=\"#f5b461\", linestyle=\"--\")\n",
    "for i in range(len(day_count)):\n",
    "    if day_count.iloc[i] > 150:\n",
    "        g.text(x=i-0.3, y=day_count.iloc[i], s = day_count.iloc[i])\n"
   ]
  },
  {
   "cell_type": "code",
   "execution_count": null,
   "metadata": {},
   "outputs": [],
   "source": [
    "# 가장 많은 확진자가 발생한 날짜와 확진자수"
   ]
  },
  {
   "cell_type": "code",
   "execution_count": null,
   "metadata": {},
   "outputs": [],
   "source": [
    "most_confirmed_case = covid_table[\"확진일(월일)\"].value_counts().sort_values(ascending=False).head(1)\n",
    "most_confirmed_case"
   ]
  },
  {
   "cell_type": "code",
   "execution_count": null,
   "metadata": {},
   "outputs": [],
   "source": [
    "covid_table[covid_table[\"확진일(월일)\"] == most_confirmed_case.index[0]].head()"
   ]
  },
  {
   "cell_type": "code",
   "execution_count": null,
   "metadata": {},
   "outputs": [],
   "source": [
    "# Recent 30 days"
   ]
  },
  {
   "cell_type": "code",
   "execution_count": null,
   "metadata": {
    "scrolled": true
   },
   "outputs": [],
   "source": [
    "recent30days = covid_table[\"확진일(월일)\"].value_counts().sort_index().tail(30)\n",
    "g = recent30days.plot.bar(figsize=(15,5), rot=30)\n",
    "plt.axhline(recent30days.median(), color=\"#f5b461\", linestyle=\"--\")\n",
    "for i in range(len(recent30days)):\n",
    "    if recent30days.iloc[i] > 50:\n",
    "        g.text(x=i-0.3, y=recent30days.iloc[i], s = recent30days.iloc[i])"
   ]
  },
  {
   "cell_type": "code",
   "execution_count": null,
   "metadata": {},
   "outputs": [],
   "source": [
    "plt.subplot(1,2,1)\n",
    "confirmed_case_month = covid_table[\"확진일(월)\"].value_counts().sort_index()\n",
    "\n",
    "g = confirmed_case_month.plot.bar(figsize=(15,5), rot=\"30\")\n",
    "plt.axhline(confirmed_case_month.median(), color=\"#f5b461\", linestyle=\"--\")\n",
    "for i in range(len(confirmed_case_month)):\n",
    "    if confirmed_case_month.iloc[i] > 1000:\n",
    "        g.text(x = i, y = confirmed_case_month.iloc[i], s = confirmed_case_month.iloc[i])\n",
    "        \n",
    "        \n",
    "plt.subplot(1,2,2)\n",
    "confirmed_case_week= covid_table[\"확진일(주)\"].value_counts().sort_index().tail(15)\n",
    "g = confirmed_case_week.plot.bar(figsize=(15,5), rot=\"30\")\n",
    "plt.axhline(confirmed_case_week.median(), color=\"#f5b461\", linestyle=\"--\")\n",
    "for i in range(len(confirmed_case_week)):\n",
    "    if confirmed_case_week.iloc[i] > 1000:\n",
    "        g.text(x = i, y = confirmed_case_week.iloc[i], s = confirmed_case_week.iloc[i])\n"
   ]
  },
  {
   "cell_type": "code",
   "execution_count": null,
   "metadata": {},
   "outputs": [],
   "source": [
    "# accumulative cases"
   ]
  },
  {
   "cell_type": "code",
   "execution_count": null,
   "metadata": {},
   "outputs": [],
   "source": [
    "firstDay = covid_table.iloc[-1][\"확진일\"]\n",
    "lastDay = covid_table.iloc[0][\"확진일\"]\n",
    "\n",
    "days = pd.date_range(firstDay, lastDay).to_frame().rename(columns={0:\"확진일자\"}).reset_index().drop(\"index\", axis=\"columns\")"
   ]
  },
  {
   "cell_type": "code",
   "execution_count": null,
   "metadata": {
    "scrolled": false
   },
   "outputs": [],
   "source": [
    "days_w_values = covid_table[\"확진일\"].value_counts().to_frame()"
   ]
  },
  {
   "cell_type": "code",
   "execution_count": null,
   "metadata": {},
   "outputs": [],
   "source": [
    "days.head()"
   ]
  },
  {
   "cell_type": "code",
   "execution_count": null,
   "metadata": {},
   "outputs": [],
   "source": [
    "days_w_values.head()"
   ]
  },
  {
   "cell_type": "code",
   "execution_count": null,
   "metadata": {},
   "outputs": [],
   "source": [
    "all_days = pd.merge(days, days_w_values, left_on=\"확진일자\", right_index=True, how=\"left\").rename(columns={\"확진일\":\"확진자수\"})\n",
    "\n",
    "all_days[\"누적확진\"] = all_days[\"확진자수\"].fillna(0).cumsum()\n",
    "all_days[\"일자\"] = all_days[\"확진일자\"].astype(str).map(lambda x : x[-5:])\n",
    "#all_days = all_days.drop(\"확진일자\", axis=\"columns\")"
   ]
  },
  {
   "cell_type": "code",
   "execution_count": null,
   "metadata": {},
   "outputs": [],
   "source": [
    "accumulative_days = all_days[[\"일자\", \"누적확진\"]]\n",
    "accumulative_days = accumulative_days.set_index(\"일자\")"
   ]
  },
  {
   "cell_type": "code",
   "execution_count": null,
   "metadata": {},
   "outputs": [],
   "source": [
    "accumulative_days.plot(figsize=(15,4))"
   ]
  },
  {
   "cell_type": "code",
   "execution_count": null,
   "metadata": {},
   "outputs": [],
   "source": [
    "# 로그 스케일\n",
    "np.log(accumulative_days[\"누적확진\"]).plot(figsize=(15, 4))"
   ]
  },
  {
   "cell_type": "code",
   "execution_count": null,
   "metadata": {},
   "outputs": [],
   "source": [
    "# 월, 요일별\n",
    "all_days[\"확진일(월)\"] = all_days[\"확진일자\"].dt.month\n",
    "all_days[\"확진일(요일)\"] = all_days[\"확진일자\"].dt.weekday\n",
    "all_days.head()\n",
    "\n",
    "#covid_table[\"확진일(요일)\"] = covid_table[\"확진일\"].dt.weekday"
   ]
  },
  {
   "cell_type": "code",
   "execution_count": null,
   "metadata": {},
   "outputs": [],
   "source": [
    "all_days_week = all_days.groupby([\"확진일(월)\", \"확진일(요일)\"])[\"확진자수\"].sum()\n",
    "all_days_week = all_days_week.to_frame().unstack()\n",
    "\n",
    "dayofweek = \"월 화 수 목 금 토 일\"\n",
    "dayofweek = dayofweek.split()\n",
    "\n",
    "all_days_week.columns = dayofweek\n",
    "all_days_week.style.background_gradient(cmap=\"Blues\")\n"
   ]
  },
  {
   "cell_type": "markdown",
   "metadata": {},
   "source": [
    "# 거주지별 확진자"
   ]
  },
  {
   "cell_type": "code",
   "execution_count": null,
   "metadata": {},
   "outputs": [],
   "source": [
    "district = covid_table[\"거주지\"].value_counts()\n",
    "district.index.unique()"
   ]
  },
  {
   "cell_type": "code",
   "execution_count": null,
   "metadata": {},
   "outputs": [],
   "source": [
    "# missing values\n",
    "district_seoul_temp = district[~district.index.str.contains(\"한국|타시도|기타\")]\n",
    "non_district_list = set(district.index) - set(district_seoul_temp.index)\n",
    "#district_seoul = district_seoul.reset_index().rename(columns={\"index\":\"지역\", \"거주지\":\"확진수\"})\n",
    "non_district = district[district.index.str.contains(\"한국|타시도|기타\")].to_frame()\n",
    "\n",
    "covid_table.loc[~covid_table[\"거주지\"].isin(non_district_list),\"지역\"] =covid_table[\"거주지\"]\n",
    "covid_table.loc[covid_table[\"거주지\"].isin(non_district_list),\"지역\"] =\"타지역\"\n",
    "covid_table.loc[covid_table[\"거주지\"]==\"성북\",\"지역\"] =\"성북구\"\n",
    "covid_table.loc[covid_table[\"거주지\"]==\"종랑구\",\"지역\"] =\"중랑구\""
   ]
  },
  {
   "cell_type": "code",
   "execution_count": null,
   "metadata": {},
   "outputs": [],
   "source": [
    "covid_table[\"지역\"].unique()"
   ]
  },
  {
   "cell_type": "code",
   "execution_count": null,
   "metadata": {},
   "outputs": [],
   "source": [
    "district_seoul=covid_table.loc[covid_table[\"지역\"]!=\"타지역\", \"지역\"].value_counts().sort_values()\n",
    "district_seoul.plot.barh(figsize=(15,15))"
   ]
  },
  {
   "cell_type": "code",
   "execution_count": null,
   "metadata": {},
   "outputs": [],
   "source": [
    "# 접촉력 빈도수\n",
    "covid_table.loc[~covid_table[\"접촉력\"].str.contains(\"확인\"),\"접촉력(filter)\"] = covid_table[\"접촉력\"]\n",
    "covid_table.loc[covid_table[\"접촉력\"].str.contains(\"확인\"),\"접촉력(filter)\"] = \"확인 중\""
   ]
  },
  {
   "cell_type": "code",
   "execution_count": null,
   "metadata": {},
   "outputs": [],
   "source": [
    "contact_status = covid_table[\"접촉력\"].value_counts()\n",
    "top15_contact = contact_status.sort_values().tail(15)\n",
    "top15_contact.plot.barh(figsize=(15,10))"
   ]
  },
  {
   "cell_type": "code",
   "execution_count": null,
   "metadata": {},
   "outputs": [],
   "source": [
    "top15_contact_table = covid_table[covid_table[\"접촉력\"].isin(top15_contact.index)]"
   ]
  },
  {
   "cell_type": "code",
   "execution_count": null,
   "metadata": {},
   "outputs": [],
   "source": [
    "top15_contact_table.groupby([\"접촉력\",\"확진일(월)\"]) \\\n",
    "            [\"연번\"].count().unstack(). \\\n",
    "            fillna(0).astype(int). \\\n",
    "            style.background_gradient(cmap=\"Blues\")"
   ]
  },
  {
   "cell_type": "markdown",
   "metadata": {},
   "source": [
    "# 감염경로 불명"
   ]
  },
  {
   "cell_type": "code",
   "execution_count": null,
   "metadata": {},
   "outputs": [],
   "source": [
    "covid_unknown = covid_table[covid_table[\"접촉력\"] == \"확인 중\"]\n",
    "unknown_weekly_case = covid_unknown.groupby([\"확진일(월)\", \"확진일(주)\"])[\"연번\"].count()\n",
    "unknown_weekly_case.plot.bar(figsize=(15, 4))"
   ]
  },
  {
   "cell_type": "code",
   "execution_count": null,
   "metadata": {},
   "outputs": [],
   "source": [
    "# 전체 확진수를 value_counts 로 구하고 데이터프레임 형태로 만듭니다.\n",
    "all_weekly_case = covid_table[\"확진일(주)\"].value_counts().to_frame()\n",
    "all_weekly_case.columns = [\"전체확진수\"]\n",
    "all_weekly_case.head()"
   ]
  },
  {
   "cell_type": "code",
   "execution_count": null,
   "metadata": {},
   "outputs": [],
   "source": [
    "unknown_weekly_case = covid_unknown[\"확진일(주)\"].value_counts().to_frame()\n",
    "unknown_weekly_case.columns = [\"불명확진수\"]\n",
    "unknown_weekly_case.head()"
   ]
  },
  {
   "cell_type": "code",
   "execution_count": null,
   "metadata": {},
   "outputs": [],
   "source": [
    "unknown_case = all_weekly_case.merge(unknown_weekly_case, left_index=True, right_index=True)\n",
    "unknown_case = unknown_case.sort_index()\n",
    "unknown_case.head()\n",
    "unknown_case.plot(figsize=(15, 4))"
   ]
  },
  {
   "cell_type": "code",
   "execution_count": null,
   "metadata": {},
   "outputs": [],
   "source": [
    "# 감염경로 \"확인 중\"의 주별 비율\n",
    "\n",
    "unknown_case[\"확인중비율\"] = (unknown_case[\"불명확진수\"] / unknown_case[\"전체확진수\"]) * 100\n",
    "unknown_case[\"확인중비율\"].plot.bar(figsize=(15, 4))"
   ]
  },
  {
   "cell_type": "markdown",
   "metadata": {},
   "source": [
    "가장 많은 전파를 일으킨 확진자"
   ]
  },
  {
   "cell_type": "code",
   "execution_count": null,
   "metadata": {},
   "outputs": [],
   "source": [
    "import re\n",
    "\n",
    "def get_number(text):\n",
    "    return re.sub(\"[^0-9]\", \"\", text)\n",
    "\n",
    "covid_table[\"접촉번호\"] = covid_table[\"접촉력\"].map(get_number)\n",
    "contact = covid_table[\"접촉번호\"].value_counts().reset_index()\n",
    "\n",
    "# contact.head()\n",
    "\n",
    "contact = contact.drop(0)\n",
    "contact.columns=[\"접촉번호\", \"확진자수\"]\n",
    "contact.head(10)\n"
   ]
  },
  {
   "cell_type": "code",
   "execution_count": null,
   "metadata": {},
   "outputs": [],
   "source": [
    "df_contact = contact.head(10)\n",
    "top_contact_number = df_contact[\"접촉번호\"]\n",
    "top_contact_number"
   ]
  },
  {
   "cell_type": "code",
   "execution_count": null,
   "metadata": {},
   "outputs": [],
   "source": [
    "# 가장 많은 전파자와 연관된 접촉환자\n",
    "covid_table[covid_table[\"접촉번호\"].isin(top_contact_number)]"
   ]
  },
  {
   "cell_type": "code",
   "execution_count": null,
   "metadata": {},
   "outputs": [],
   "source": [
    "covid_table.head()"
   ]
  },
  {
   "cell_type": "code",
   "execution_count": null,
   "metadata": {},
   "outputs": [],
   "source": [
    "covid_table[\"퇴원\"] = covid_table[\"퇴원현황\"].str.contains(\"퇴원\")\n",
    "covid_table[\"사망\"] = covid_table[\"퇴원현황\"].str.contains(\"사망\")\n",
    "covid_table[\"치료중\"] = covid_table[\"퇴원현황\"].isnull()\n",
    "covid_table[\"퇴원\"] = covid_table[\"퇴원\"].fillna(False)\n",
    "covid_table[\"사망\"] = covid_table[\"사망\"].fillna(False)\n"
   ]
  },
  {
   "cell_type": "code",
   "execution_count": null,
   "metadata": {},
   "outputs": [],
   "source": [
    "covid_table[\"퇴원현황(filter)\"] = covid_table[\"퇴원현황\"]\n",
    "covid_table.loc[covid_table[\"퇴원현황(filter)\"].isnull(), \"퇴원현황(filter)\"] = \"치료중\""
   ]
  },
  {
   "cell_type": "code",
   "execution_count": null,
   "metadata": {},
   "outputs": [],
   "source": [
    "g1 = covid_table.groupby([\"퇴원현황(filter)\"])[\"연번\"].count()\n",
    "g1_plot = covid_table.groupby([\"퇴원현황(filter)\"])[\"연번\"].count().plot.bar(figsize=(15,5), rot=\"30\")\n",
    "for i in range(g1.shape[0]):\n",
    "     g1_plot.text(x=i, y=g1[i], s = g1[i])"
   ]
  },
  {
   "cell_type": "code",
   "execution_count": null,
   "metadata": {},
   "outputs": [],
   "source": [
    "# 데이터 수집 시점 기준 현재까지 입원해 있는 확진자 중 가장 오래 입원해 있는 확진자\n",
    "\n",
    "covid_table[(covid_table[\"퇴원\"] == False) \n",
    "            & (covid_table[\"사망\"] == False) \n",
    "            & (covid_table[\"지역\"] != \"타지역\")].tail(10).sort_values(by=\"확진일(월일)\", ascending=True)"
   ]
  },
  {
   "cell_type": "markdown",
   "metadata": {},
   "source": [
    "여행력"
   ]
  },
  {
   "cell_type": "code",
   "execution_count": null,
   "metadata": {},
   "outputs": [],
   "source": [
    "# \"해외\" 라는 컬럼을 만들어 데이터를 전처리 합니다.\n",
    "# \"여행력\"에 \"-\" 문자가 들어가 있으면 결측치로 처리합니다.\n",
    "covid_table[\"해외\"] = covid_table[\"여행력\"]\n",
    "covid_table[\"해외\"] = covid_table[\"해외\"].str.strip()\n",
    "covid_table[\"해외\"] = covid_table[\"해외\"].replace(\"-\", np.nan)\n",
    "covid_table[\"해외\"].nunique()"
   ]
  },
  {
   "cell_type": "code",
   "execution_count": null,
   "metadata": {},
   "outputs": [],
   "source": [
    "covid_table[\"해외\"].value_counts().head(10)"
   ]
  },
  {
   "cell_type": "code",
   "execution_count": null,
   "metadata": {},
   "outputs": [],
   "source": [
    "# \"해외\" 컬럼의 값이 결측치가 아닌 데이터만 가져와서 \n",
    "# df_oversea 라는 새로운 데이터프레임에 담습니다.\n",
    "df_oversea = covid_table[covid_table[\"해외\"].notnull()].copy()\n",
    "df_oversea.shape"
   ]
  },
  {
   "cell_type": "code",
   "execution_count": null,
   "metadata": {},
   "outputs": [],
   "source": [
    "# 중복되는 지역명이 있는지 확인합니다.\n",
    "df_oversea[\"해외\"].unique()"
   ]
  },
  {
   "cell_type": "code",
   "execution_count": null,
   "metadata": {},
   "outputs": [],
   "source": [
    "# 유럽 지역을 방문했다면 유럽이라고 바꿔주기 위해 국가명을 str.contains 로 검색하기 위한 형태로 만듭니다.\n",
    "europe = \"체코, 헝가리, 오스트리아, 이탈리아, 모로코, 독일, 폴란드, 터키, \\\n",
    "아일랜드, 핀란드, 네덜란드, 우크라이나, 루마니아, 포르투칼, 스웨덴, 벨기에, 몰타, 크로아티아\"\n",
    "europe = europe.replace(\", \", \"|\")\n",
    "df_oversea[df_oversea[\"해외\"].str.contains(europe)].head()"
   ]
  },
  {
   "cell_type": "code",
   "execution_count": null,
   "metadata": {},
   "outputs": [],
   "source": [
    "# 남미 지역에 해당되는 국가명을 str.contains 로 검색하기 위한 형태로 만듭니다.\n",
    "south_america = \"브라질, 아르헨티아, 칠레, 볼리비아, 멕시코, 페루, 에콰도르, 파라과이\"\n",
    "south_america = south_america.replace(\", \", \"|\")\n",
    "south_america"
   ]
  },
  {
   "cell_type": "code",
   "execution_count": null,
   "metadata": {},
   "outputs": [],
   "source": [
    "# 남미 지역에 해당되는 국가명을 str.contains 로 검색하기 위한 형태로 만듭니다.\n",
    "asia = \"인도네시아, 말레이시아, 싱가포르, 태국, 브루나이, 홍콩, 베트남, 라오스, 미얀마, 캄보디아, 동티모르, \\\n",
    "파푸아뉴기니, 이라크, 카자흐스탄, 사우디아라비아, UAE, 키르기스스탄, 방글라데시, 키르기즈스탄, 카타르, \\\n",
    "파키스탄, 네팔, 쿠웨이트, 파키스탄, 이집트, 이란, 요르단\"\n",
    "asia = asia.replace(\", \", \"|\")\n",
    "asia"
   ]
  },
  {
   "cell_type": "code",
   "execution_count": null,
   "metadata": {},
   "outputs": [],
   "source": [
    "# 남미 지역에 해당되는 국가명을 str.contains 로 검색하기 위한 형태로 만듭니다.\n",
    "africa = \"에티오피아, 에디오피아, 우간다, 가나, 가봉, 수단, 튀니지, 나이지리아, 케냐\"\n",
    "africa = africa.replace(\", \", \"|\")\n",
    "africa"
   ]
  },
  {
   "cell_type": "code",
   "execution_count": null,
   "metadata": {},
   "outputs": [],
   "source": [
    "# 중복되는 국가나 지역을 특정 텍스트로 변경해서 그룹화 해서 빈도수를 세어볼 예정입니다.\n",
    "# .str.contains 와 .loc 를 사용해서 전처리 합니다.\n",
    "\n",
    "df_oversea.loc[df_oversea[\"해외\"].str.contains(\"중국|우한\"), \"해외\"] = \"중국\"\n",
    "df_oversea.loc[df_oversea[\"해외\"].str.contains(\"아랍에미리트\"), \"해외\"] = \"UAE\"\n",
    "df_oversea.loc[df_oversea[\"해외\"].str.contains(\"필리핀\"), \"해외\"] = \"필리핀\"\n",
    "df_oversea.loc[df_oversea[\"해외\"].str.contains(\"미국\"), \"해외\"] = \"미국\"\n",
    "\n",
    "df_oversea.loc[df_oversea[\"해외\"].str.contains(\"프랑스, 스페인|스페인, 프랑스|영국, 프랑스|콩코, 프랑스|스페인, 카타르\"), \"해외\"] = \"유럽\"\n",
    "df_oversea.loc[df_oversea[\"해외\"].str.contains(\"팔라우|28238|21263\"), \"해외\"] = \"기타\"\n",
    "\n",
    "df_oversea.loc[df_oversea[\"해외\"].str.contains(europe), \"해외\"] = \"유럽\"\n",
    "df_oversea.loc[df_oversea[\"해외\"].str.contains(south_america), \"해외\"] = \"남미\"\n",
    "df_oversea.loc[df_oversea[\"해외\"].str.contains(asia), \"해외\"] = \"아시아\"\n",
    "df_oversea.loc[df_oversea[\"해외\"].str.contains(africa), \"해외\"] = \"아프리카\"\n",
    "\n",
    "\n",
    "df_oversea[\"해외\"].value_counts()"
   ]
  },
  {
   "cell_type": "code",
   "execution_count": null,
   "metadata": {},
   "outputs": [],
   "source": [
    "# 확진일자, 해외 별 카운트 수를 구합니다.\n",
    "\n",
    "day_oversea = df_oversea.groupby([\"확진일\", \"해외\"])[\"연번\"].count()\n",
    "day_oversea.head()"
   ]
  },
  {
   "cell_type": "code",
   "execution_count": null,
   "metadata": {},
   "outputs": [],
   "source": [
    "# 위에서 구한 값을 바탕으로 지역별 누적 확진수를 구합니다.\n",
    "\n",
    "day_oversea = day_oversea.groupby(level=[1]).cumsum()\n",
    "day_oversea"
   ]
  },
  {
   "cell_type": "code",
   "execution_count": null,
   "metadata": {},
   "outputs": [],
   "source": [
    "# 위에서 구한 값을 reset_index() 를 통해 데이터프레임으로 변경하고 \"연번\" 컬럼을 \"확진자수\"로 변경합니다.\n",
    "\n",
    "df_day_oversea = day_oversea.reset_index()\n",
    "df_day_oversea = df_day_oversea.rename(columns={\"연번\":\"누적확진수\"})\n",
    "df_day_oversea.head()"
   ]
  },
  {
   "cell_type": "code",
   "execution_count": null,
   "metadata": {},
   "outputs": [],
   "source": [
    "# \"해외\" 컬럼의 빈도수를 구합니다.\n",
    "oversea_count = df_oversea[\"해외\"].value_counts()"
   ]
  },
  {
   "cell_type": "code",
   "execution_count": null,
   "metadata": {},
   "outputs": [],
   "source": [
    "# 위에서 구한 빈도수를 시각화 합니다.\n",
    "oversea_count.sort_values().plot.barh(figsize=(10, 12))"
   ]
  },
  {
   "cell_type": "code",
   "execution_count": null,
   "metadata": {},
   "outputs": [],
   "source": [
    "df_day_oversea = df_day_oversea.set_index(\"확진일\")"
   ]
  },
  {
   "cell_type": "code",
   "execution_count": null,
   "metadata": {},
   "outputs": [],
   "source": [
    "\n",
    "plt.subplot(2,2,1)\n",
    "g1 = df_day_oversea.loc[df_day_oversea[\"해외\"] == \"미국\", \"누적확진수\"].plot(figsize=(10, 5))\n",
    "g1.text(.5,.9,'미국 누적확진자수',horizontalalignment='center', transform=g1.transAxes)\n",
    "\n",
    "plt.subplot(2,2,2)\n",
    "g2 = df_day_oversea.loc[df_day_oversea[\"해외\"] == \"아시아\", \"누적확진수\"].plot(figsize=(10, 5))\n",
    "g2.text(.5,.9,'아시아 누적확진자수',horizontalalignment='center', transform=g2.transAxes)\n",
    "\n",
    "plt.subplot(2,2,3)\n",
    "g3 = df_day_oversea.loc[df_day_oversea[\"해외\"] == \"유럽\", \"누적확진수\"].plot(figsize=(10, 12))\n",
    "g3.text(.5,.9,'유럽 누적확진자수',horizontalalignment='center', transform=g3.transAxes)\n",
    "\n",
    "plt.subplot(2,2,4)\n",
    "g4 = df_day_oversea.loc[df_day_oversea[\"해외\"] == \"남미\", \"누적확진수\"].plot(figsize=(10, 12))\n",
    "g4.text(.5,.9,'남미 누적확진자수',horizontalalignment='center', transform=g4.transAxes)"
   ]
  },
  {
   "cell_type": "code",
   "execution_count": null,
   "metadata": {},
   "outputs": [],
   "source": [
    "oversea_count_gu = df_oversea[\"지역\"].value_counts()\n",
    "oversea_count_gu.head()"
   ]
  },
  {
   "cell_type": "code",
   "execution_count": null,
   "metadata": {},
   "outputs": [],
   "source": [
    "# \"해외유입 구별 확진자\" 시각화 하기\n",
    "\n",
    "oversea_count_gu.sort_values().plot.barh(figsize=(10, 12))"
   ]
  },
  {
   "cell_type": "markdown",
   "metadata": {},
   "source": [
    "전체확진수와 해외유입 확진수 비교"
   ]
  },
  {
   "cell_type": "code",
   "execution_count": null,
   "metadata": {},
   "outputs": [],
   "source": [
    "# all_count_gu 변수에 전체 지역의 확진자수 구하기\n",
    "all_count_gu = covid_table[\"지역\"].value_counts()"
   ]
  },
  {
   "cell_type": "code",
   "execution_count": null,
   "metadata": {},
   "outputs": [],
   "source": [
    "# 데이터프레임으로 변환하고 컬럼명 변경하기\n",
    "\n",
    "df_all_gu = all_count_gu.to_frame()\n",
    "df_all_gu.columns = [\"전체확진수\"]\n",
    "df_all_gu"
   ]
  },
  {
   "cell_type": "code",
   "execution_count": null,
   "metadata": {},
   "outputs": [],
   "source": [
    "# 해외유입확진수 구하기\n",
    "\n",
    "df_oversea_gu = pd.DataFrame({\"해외유입확진수\" : oversea_count_gu})"
   ]
  },
  {
   "cell_type": "code",
   "execution_count": null,
   "metadata": {},
   "outputs": [],
   "source": [
    "# merge 로 합쳐서 전체확진수와 해외유입확진수 비교해 보기\n",
    "\n",
    "df_all_oversea_case = df_all_gu.merge(df_oversea_gu, left_index=True, right_index=True)\n",
    "df_all_oversea_case.head()"
   ]
  },
  {
   "cell_type": "code",
   "execution_count": null,
   "metadata": {},
   "outputs": [],
   "source": [
    "# 시각화 하기\n",
    "\n",
    "df_all_oversea_case.sort_values(by=\"해외유입확진수\").plot.barh(figsize=(15, 8))"
   ]
  },
  {
   "cell_type": "code",
   "execution_count": null,
   "metadata": {},
   "outputs": [],
   "source": [
    "# df_all_oversea_case[\"해외유입비율\"] 구하기\n",
    "\n",
    "df_all_oversea_case[\"해외유입비율\"] = (df_all_oversea_case[\"해외유입확진수\"] / df_all_oversea_case[\"전체확진수\"]) * 100\n",
    "df_all_oversea_case.sort_values(by=\"해외유입비율\", ascending=False).head(10)"
   ]
  },
  {
   "cell_type": "code",
   "execution_count": null,
   "metadata": {},
   "outputs": [],
   "source": [
    "# oversea_finish_count 해외유입 확진자 중 퇴원 여부 구하기\n",
    "oversea_finish_count = df_oversea.groupby([\"지역\", \"퇴원\"])[\"연번\"].count().unstack()\n",
    "oversea_finish_count = oversea_finish_count.fillna(0).astype(int)\n",
    "oversea_finish_count.plot.bar(figsize=(15, 4), rot=30)"
   ]
  },
  {
   "cell_type": "markdown",
   "metadata": {},
   "source": [
    "월별 해외확진자수"
   ]
  },
  {
   "cell_type": "code",
   "execution_count": null,
   "metadata": {},
   "outputs": [],
   "source": [
    "oversea_monthly_case = df_oversea[\"확진일(월)\"].value_counts()\n",
    "oversea_monthly_case.sort_index().plot()"
   ]
  },
  {
   "cell_type": "code",
   "execution_count": null,
   "metadata": {},
   "outputs": [],
   "source": [
    "oversea_monthly_case.sort_index().plot.bar(rot=0)"
   ]
  },
  {
   "cell_type": "markdown",
   "metadata": {},
   "source": [
    "구와 월별 해외 확진자 수"
   ]
  },
  {
   "cell_type": "code",
   "execution_count": null,
   "metadata": {},
   "outputs": [],
   "source": [
    "month_gu = df_oversea.groupby([\"확진일(월)\", \"지역\"])[\"연번\"].count().unstack()\n",
    "month_gu = month_gu.fillna(0).astype(int)\n",
    "month_gu.style.background_gradient(cmap=\"Greens\")"
   ]
  },
  {
   "cell_type": "markdown",
   "metadata": {},
   "source": [
    "해외유입이 많은 지역(구)"
   ]
  },
  {
   "cell_type": "code",
   "execution_count": null,
   "metadata": {},
   "outputs": [],
   "source": [
    "# 해외유입이 많은 상위 10개 지역을 구합니다.\n",
    "top_oversea_gu = df_oversea[\"지역\"].value_counts().head().index"
   ]
  },
  {
   "cell_type": "code",
   "execution_count": null,
   "metadata": {},
   "outputs": [],
   "source": [
    "# 시각화 하기\n",
    "g = month_gu[top_oversea_gu].plot(figsize=(15, 4))\n",
    "g.legend(loc=1)"
   ]
  },
  {
   "cell_type": "markdown",
   "metadata": {},
   "source": [
    "구별 해외유입 국가 분석하기"
   ]
  },
  {
   "cell_type": "code",
   "execution_count": null,
   "metadata": {},
   "outputs": [],
   "source": [
    "group_oversea_gu = df_oversea.groupby([\"해외\", \"지역\"])[\"연번\"].count().unstack()\n",
    "group_oversea_gu.fillna(0).astype(int)"
   ]
  },
  {
   "cell_type": "code",
   "execution_count": null,
   "metadata": {},
   "outputs": [],
   "source": [
    "group_oversea_gu = df_oversea.groupby([\"해외\", \"지역\"])[\"연번\"].count().unstack()\n",
    "group_oversea_gu = group_oversea_gu.fillna(0).astype(int)\n",
    "group_oversea_gu.style.background_gradient(cmap=\"Blues\")"
   ]
  },
  {
   "cell_type": "code",
   "execution_count": null,
   "metadata": {},
   "outputs": [],
   "source": []
  }
 ],
 "metadata": {
  "kernelspec": {
   "display_name": "Python 3",
   "language": "python",
   "name": "python3"
  },
  "language_info": {
   "codemirror_mode": {
    "name": "ipython",
    "version": 3
   },
   "file_extension": ".py",
   "mimetype": "text/x-python",
   "name": "python",
   "nbconvert_exporter": "python",
   "pygments_lexer": "ipython3",
   "version": "3.7.3"
  }
 },
 "nbformat": 4,
 "nbformat_minor": 2
}
